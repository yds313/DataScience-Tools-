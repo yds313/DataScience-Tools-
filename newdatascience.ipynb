{
 "cells": [
  {
   "cell_type": "markdown",
   "id": "508ac565",
   "metadata": {},
   "source": [
    "# Datascience and Tools Notebook"
   ]
  },
  {
   "cell_type": "markdown",
   "id": "87f1b887",
   "metadata": {},
   "source": [
    "Introduction"
   ]
  },
  {
   "cell_type": "markdown",
   "id": "6832e139",
   "metadata": {},
   "source": [
    "here list of datascience lanquages\n",
    "1.python\n",
    "2.R\n",
    "3.Sql"
   ]
  },
  {
   "cell_type": "markdown",
   "id": "2fe58e75",
   "metadata": {},
   "source": [
    "list of Data Science Libraries are"
   ]
  },
  {
   "cell_type": "markdown",
   "id": "b60f7534",
   "metadata": {},
   "source": [
    "1.Staples of Data Science"
   ]
  },
  {
   "cell_type": "markdown",
   "id": "84bcc299",
   "metadata": {},
   "source": [
    "2.Machine Learning"
   ]
  },
  {
   "cell_type": "markdown",
   "id": "72fa7d79",
   "metadata": {},
   "source": [
    "3.Deep Learning"
   ]
  },
  {
   "cell_type": "markdown",
   "id": "dbf22771",
   "metadata": {},
   "source": [
    "Here I would like to Discuss data science tools in the table format"
   ]
  },
  {
   "cell_type": "markdown",
   "id": "ebed2767",
   "metadata": {},
   "source": [
    "|Data Science Tools|\n",
    "|---|\n",
    "|Data Management|\n",
    "|Data Integration and Transformation|\n",
    "|Data Processing|\n",
    "|Machine Learning|\n",
    "|Deep Learning|"
   ]
  },
  {
   "cell_type": "markdown",
   "id": "335556f7",
   "metadata": {},
   "source": [
    "in next i would like to discuss about arithmatic expressions"
   ]
  },
  {
   "cell_type": "code",
   "execution_count": 1,
   "id": "ec4b80cf",
   "metadata": {},
   "outputs": [
    {
     "data": {
      "text/plain": [
       "59"
      ]
     },
     "execution_count": 1,
     "metadata": {},
     "output_type": "execute_result"
    }
   ],
   "source": [
    "a=5\n",
    "b=6\n",
    "c=9\n",
    "a+b*c"
   ]
  },
  {
   "cell_type": "markdown",
   "id": "5fb2d6af",
   "metadata": {},
   "source": [
    "here after execution output is 59"
   ]
  },
  {
   "cell_type": "markdown",
   "id": "71b00568",
   "metadata": {},
   "source": [
    "here next i would like to perform how we can convert minutes to hours.\n",
    "to do this we should divide number with 60 like \n",
    "number of hours=minutes/60"
   ]
  },
  {
   "cell_type": "markdown",
   "id": "0864ccab",
   "metadata": {},
   "source": [
    "for example minutes = 300.it will become 5 hours if we divide with 60"
   ]
  },
  {
   "cell_type": "code",
   "execution_count": 2,
   "id": "65ca817d",
   "metadata": {},
   "outputs": [
    {
     "data": {
      "text/plain": [
       "5.0"
      ]
     },
     "execution_count": 2,
     "metadata": {},
     "output_type": "execute_result"
    }
   ],
   "source": [
    "minutes=300\n",
    "hour=60\n",
    "minutes/hour"
   ]
  },
  {
   "cell_type": "markdown",
   "id": "fd8cacd0",
   "metadata": {},
   "source": [
    "here we got ouput as 5 as we expected."
   ]
  },
  {
   "cell_type": "markdown",
   "id": "e561917e",
   "metadata": {},
   "source": [
    "list of Objectives"
   ]
  },
  {
   "cell_type": "markdown",
   "id": "864c5152",
   "metadata": {},
   "source": [
    "1.Statistical Techniques"
   ]
  },
  {
   "cell_type": "markdown",
   "id": "1cf5fcf9",
   "metadata": {},
   "source": [
    "2.data Extraction"
   ]
  },
  {
   "cell_type": "markdown",
   "id": "4d6ad0c5",
   "metadata": {},
   "source": [
    "3.Wrangling"
   ]
  },
  {
   "cell_type": "markdown",
   "id": "aa8fa44f",
   "metadata": {},
   "source": [
    "4.preprocessing"
   ]
  },
  {
   "cell_type": "markdown",
   "id": "7a903c12",
   "metadata": {},
   "source": [
    "5.Predictions"
   ]
  },
  {
   "cell_type": "markdown",
   "id": "e3044fd2",
   "metadata": {},
   "source": [
    "# Author"
   ]
  },
  {
   "cell_type": "markdown",
   "id": "6d11fab5",
   "metadata": {},
   "source": [
    "### Durga Satish Yarra"
   ]
  },
  {
   "cell_type": "code",
   "execution_count": null,
   "id": "c642eba2",
   "metadata": {},
   "outputs": [],
   "source": []
  }
 ],
 "metadata": {
  "kernelspec": {
   "display_name": "Python 3 (ipykernel)",
   "language": "python",
   "name": "python3"
  },
  "language_info": {
   "codemirror_mode": {
    "name": "ipython",
    "version": 3
   },
   "file_extension": ".py",
   "mimetype": "text/x-python",
   "name": "python",
   "nbconvert_exporter": "python",
   "pygments_lexer": "ipython3",
   "version": "3.10.9"
  }
 },
 "nbformat": 4,
 "nbformat_minor": 5
}
